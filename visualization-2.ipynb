{
 "cells": [
  {
   "cell_type": "code",
   "execution_count": 12,
   "id": "144a9203",
   "metadata": {},
   "outputs": [],
   "source": [
    "import pandas as pd\n",
    "import altair as alt\n",
    "\n",
    "alt.renderers.enable('default')\n",
    "\n",
    "df = pd.read_csv(\"adult_clean.csv\")\n",
    "df.head()\n",
    "\n",
    "grouped = df.groupby(['gender', 'income', 'race']).size().reset_index(name = 'count')\n",
    "\n",
    "total_counts = grouped.groupby(['gender', 'income'])['count'].sum().reset_index(name = 'total')\n",
    "\n",
    "grouped = pd.merge(grouped, total_counts, on = ['gender', 'income'])\n",
    "\n",
    "grouped['group'] = grouped['gender'] + \" - \" + grouped['income']\n",
    "\n",
    "chart = alt.Chart(grouped).mark_bar().encode(\n",
    "    y = alt.Y('group:N', title = 'Gender and Income',\n",
    "            sort = alt.EncodingSortField(field = 'gender')),\n",
    "    x = alt.X('sum(count):Q', title = 'Count'),\n",
    "    color = alt.Color('race:N', title = 'Race', scale = alt.Scale(scheme = 'category10')),\n",
    "    tooltip = [\n",
    "        alt.Tooltip('group:N', title = 'Group'),\n",
    "        alt.Tooltip('sum(count):Q', title = 'Count'),\n",
    "        alt.Tooltip('total:Q', title = 'Total Count', aggregate = 'max')\n",
    "    ]\n",
    ").properties(\n",
    "    title = 'Income by Gender and Race',\n",
    "    width = 1100,\n",
    "    height = 600\n",
    ")\n",
    "\n",
    "chart.save('visualization-2.html')\n"
   ]
  }
 ],
 "metadata": {
  "kernelspec": {
   "display_name": "Python (base)",
   "language": "python",
   "name": "base"
  },
  "language_info": {
   "codemirror_mode": {
    "name": "ipython",
    "version": 3
   },
   "file_extension": ".py",
   "mimetype": "text/x-python",
   "name": "python",
   "nbconvert_exporter": "python",
   "pygments_lexer": "ipython3",
   "version": "3.11.8"
  }
 },
 "nbformat": 4,
 "nbformat_minor": 5
}
