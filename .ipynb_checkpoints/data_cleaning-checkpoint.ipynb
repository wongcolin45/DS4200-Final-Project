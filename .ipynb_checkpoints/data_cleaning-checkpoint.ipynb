{
 "cells": [
  {
   "cell_type": "code",
   "execution_count": 2,
   "id": "a19b5964-fa26-4abc-a6d9-0983f8bd4a8c",
   "metadata": {},
   "outputs": [],
   "source": [
    "import pandas as pd"
   ]
  },
  {
   "cell_type": "code",
   "execution_count": 2,
   "id": "c45bdab7-e488-455a-b325-d6dddf7c73b6",
   "metadata": {},
   "outputs": [
    {
     "data": {
      "text/plain": [
       "array(['United-States', 'Peru', 'Guatemala', 'Mexico',\n",
       "       'Dominican-Republic', 'Ireland', 'Germany', 'Philippines',\n",
       "       'Thailand', 'Haiti', 'El-Salvador', 'Puerto-Rico', 'Vietnam',\n",
       "       'South', 'Columbia', 'Japan', 'India', 'Cambodia', 'Poland',\n",
       "       'Laos', 'England', 'Cuba', 'Taiwan', 'Italy', 'Canada', 'Portugal',\n",
       "       'China', 'Nicaragua', 'Honduras', 'Iran', 'Scotland', 'Jamaica',\n",
       "       'Ecuador', 'Yugoslavia', 'Hungary', 'Hong', 'Greece',\n",
       "       'Trinadad&Tobago', 'Outlying-US(Guam-USVI-etc)', 'France',\n",
       "       'Holand-Netherlands'], dtype=object)"
      ]
     },
     "execution_count": 2,
     "metadata": {},
     "output_type": "execute_result"
    }
   ],
   "source": [
    "df = pd.read_csv('adult_clean.csv')\n",
    "\n",
    "df['native-country'].unique()\n",
    "\n",
    "\n"
   ]
  },
  {
   "cell_type": "code",
   "execution_count": 6,
   "id": "551933f8-3f26-4efb-becc-46990322dd7c",
   "metadata": {},
   "outputs": [
    {
     "data": {
      "text/html": [
       "\n",
       "<style>\n",
       "  #altair-viz-f9d7cadc203f46a2b3c2262e6cfc51f3.vega-embed {\n",
       "    width: 100%;\n",
       "    display: flex;\n",
       "  }\n",
       "\n",
       "  #altair-viz-f9d7cadc203f46a2b3c2262e6cfc51f3.vega-embed details,\n",
       "  #altair-viz-f9d7cadc203f46a2b3c2262e6cfc51f3.vega-embed details summary {\n",
       "    position: relative;\n",
       "  }\n",
       "</style>\n",
       "<div id=\"altair-viz-f9d7cadc203f46a2b3c2262e6cfc51f3\"></div>\n",
       "<script type=\"text/javascript\">\n",
       "  var VEGA_DEBUG = (typeof VEGA_DEBUG == \"undefined\") ? {} : VEGA_DEBUG;\n",
       "  (function(spec, embedOpt){\n",
       "    let outputDiv = document.currentScript.previousElementSibling;\n",
       "    if (outputDiv.id !== \"altair-viz-f9d7cadc203f46a2b3c2262e6cfc51f3\") {\n",
       "      outputDiv = document.getElementById(\"altair-viz-f9d7cadc203f46a2b3c2262e6cfc51f3\");\n",
       "    }\n",
       "\n",
       "    const paths = {\n",
       "      \"vega\": \"https://cdn.jsdelivr.net/npm/vega@5?noext\",\n",
       "      \"vega-lib\": \"https://cdn.jsdelivr.net/npm/vega-lib?noext\",\n",
       "      \"vega-lite\": \"https://cdn.jsdelivr.net/npm/vega-lite@5.20.1?noext\",\n",
       "      \"vega-embed\": \"https://cdn.jsdelivr.net/npm/vega-embed@6?noext\",\n",
       "    };\n",
       "\n",
       "    function maybeLoadScript(lib, version) {\n",
       "      var key = `${lib.replace(\"-\", \"\")}_version`;\n",
       "      return (VEGA_DEBUG[key] == version) ?\n",
       "        Promise.resolve(paths[lib]) :\n",
       "        new Promise(function(resolve, reject) {\n",
       "          var s = document.createElement('script');\n",
       "          document.getElementsByTagName(\"head\")[0].appendChild(s);\n",
       "          s.async = true;\n",
       "          s.onload = () => {\n",
       "            VEGA_DEBUG[key] = version;\n",
       "            return resolve(paths[lib]);\n",
       "          };\n",
       "          s.onerror = () => reject(`Error loading script: ${paths[lib]}`);\n",
       "          s.src = paths[lib];\n",
       "        });\n",
       "    }\n",
       "\n",
       "    function showError(err) {\n",
       "      outputDiv.innerHTML = `<div class=\"error\" style=\"color:red;\">${err}</div>`;\n",
       "      throw err;\n",
       "    }\n",
       "\n",
       "    function displayChart(vegaEmbed) {\n",
       "      vegaEmbed(outputDiv, spec, embedOpt)\n",
       "        .catch(err => showError(`Javascript Error: ${err.message}<br>This usually means there's a typo in your chart specification. See the javascript console for the full traceback.`));\n",
       "    }\n",
       "\n",
       "    if(typeof define === \"function\" && define.amd) {\n",
       "      requirejs.config({paths});\n",
       "      let deps = [\"vega-embed\"];\n",
       "      require(deps, displayChart, err => showError(`Error loading script: ${err.message}`));\n",
       "    } else {\n",
       "      maybeLoadScript(\"vega\", \"5\")\n",
       "        .then(() => maybeLoadScript(\"vega-lite\", \"5.20.1\"))\n",
       "        .then(() => maybeLoadScript(\"vega-embed\", \"6\"))\n",
       "        .catch(showError)\n",
       "        .then(() => displayChart(vegaEmbed));\n",
       "    }\n",
       "  })({\"config\": {\"view\": {\"continuousWidth\": 300, \"continuousHeight\": 300}}, \"data\": {\"name\": \"data-8ad8128431d02a319ebb8027fbd610f4\"}, \"mark\": {\"type\": \"bar\"}, \"encoding\": {\"color\": {\"field\": \"income\", \"title\": \"Income\", \"type\": \"nominal\"}, \"tooltip\": [{\"field\": \"education\", \"type\": \"nominal\"}, {\"field\": \"income\", \"type\": \"nominal\"}, {\"field\": \"percentage\", \"type\": \"quantitative\"}], \"x\": {\"field\": \"education\", \"sort\": [\"Preschool\", \"1st-4th\", \"5th-6th\", \"7th-8th\", \"9th\", \"10th\", \"11th\", \"12th\", \"HS-grad\", \"Some-college\", \"Assoc-voc\", \"Assoc-acdm\", \"Bachelors\", \"Masters\", \"Prof-school\", \"Doctorate\"], \"title\": \"Education Level\", \"type\": \"nominal\"}, \"y\": {\"field\": \"percentage\", \"title\": \"Percentage\", \"type\": \"quantitative\"}}, \"height\": 400, \"title\": \"Income Distribution by Education Level\", \"width\": 600, \"$schema\": \"https://vega.github.io/schema/vega-lite/v5.20.1.json\", \"datasets\": {\"data-8ad8128431d02a319ebb8027fbd610f4\": [{\"education\": \"Preschool\", \"educational-num\": 1, \"income\": \"<=50K\", \"count\": 71, \"percentage\": 98.6}, {\"education\": \"Preschool\", \"educational-num\": 1, \"income\": \">50K\", \"count\": 1, \"percentage\": 1.4}, {\"education\": \"1st-4th\", \"educational-num\": 2, \"income\": \"<=50K\", \"count\": 214, \"percentage\": 96.4}, {\"education\": \"1st-4th\", \"educational-num\": 2, \"income\": \">50K\", \"count\": 8, \"percentage\": 3.6}, {\"education\": \"5th-6th\", \"educational-num\": 3, \"income\": \"<=50K\", \"count\": 427, \"percentage\": 95.1}, {\"education\": \"5th-6th\", \"educational-num\": 3, \"income\": \">50K\", \"count\": 22, \"percentage\": 4.9}, {\"education\": \"7th-8th\", \"educational-num\": 4, \"income\": \">50K\", \"count\": 55, \"percentage\": 6.7}, {\"education\": \"7th-8th\", \"educational-num\": 4, \"income\": \"<=50K\", \"count\": 768, \"percentage\": 93.3}, {\"education\": \"9th\", \"educational-num\": 5, \"income\": \">50K\", \"count\": 38, \"percentage\": 5.6}, {\"education\": \"9th\", \"educational-num\": 5, \"income\": \"<=50K\", \"count\": 638, \"percentage\": 94.4}, {\"education\": \"10th\", \"educational-num\": 6, \"income\": \"<=50K\", \"count\": 1141, \"percentage\": 93.3}, {\"education\": \"10th\", \"educational-num\": 6, \"income\": \">50K\", \"count\": 82, \"percentage\": 6.7}, {\"education\": \"11th\", \"educational-num\": 7, \"income\": \">50K\", \"count\": 89, \"percentage\": 5.5}, {\"education\": \"11th\", \"educational-num\": 7, \"income\": \"<=50K\", \"count\": 1530, \"percentage\": 94.5}, {\"education\": \"12th\", \"educational-num\": 8, \"income\": \">50K\", \"count\": 43, \"percentage\": 7.5}, {\"education\": \"12th\", \"educational-num\": 8, \"income\": \"<=50K\", \"count\": 534, \"percentage\": 92.5}, {\"education\": \"HS-grad\", \"educational-num\": 9, \"income\": \">50K\", \"count\": 2416, \"percentage\": 16.3}, {\"education\": \"HS-grad\", \"educational-num\": 9, \"income\": \"<=50K\", \"count\": 12367, \"percentage\": 83.7}, {\"education\": \"Some-college\", \"educational-num\": 10, \"income\": \">50K\", \"count\": 1990, \"percentage\": 20.1}, {\"education\": \"Some-college\", \"educational-num\": 10, \"income\": \"<=50K\", \"count\": 7909, \"percentage\": 79.9}, {\"education\": \"Assoc-voc\", \"educational-num\": 11, \"income\": \">50K\", \"count\": 504, \"percentage\": 25.7}, {\"education\": \"Assoc-voc\", \"educational-num\": 11, \"income\": \"<=50K\", \"count\": 1455, \"percentage\": 74.3}, {\"education\": \"Assoc-acdm\", \"educational-num\": 12, \"income\": \"<=50K\", \"count\": 1109, \"percentage\": 73.6}, {\"education\": \"Assoc-acdm\", \"educational-num\": 12, \"income\": \">50K\", \"count\": 398, \"percentage\": 26.4}, {\"education\": \"Bachelors\", \"educational-num\": 13, \"income\": \">50K\", \"count\": 3178, \"percentage\": 42.0}, {\"education\": \"Bachelors\", \"educational-num\": 13, \"income\": \"<=50K\", \"count\": 4392, \"percentage\": 58.0}, {\"education\": \"Masters\", \"educational-num\": 14, \"income\": \"<=50K\", \"count\": 1121, \"percentage\": 44.6}, {\"education\": \"Masters\", \"educational-num\": 14, \"income\": \">50K\", \"count\": 1393, \"percentage\": 55.4}, {\"education\": \"Prof-school\", \"educational-num\": 15, \"income\": \"<=50K\", \"count\": 193, \"percentage\": 24.6}, {\"education\": \"Prof-school\", \"educational-num\": 15, \"income\": \">50K\", \"count\": 592, \"percentage\": 75.4}, {\"education\": \"Doctorate\", \"educational-num\": 16, \"income\": \"<=50K\", \"count\": 145, \"percentage\": 26.7}, {\"education\": \"Doctorate\", \"educational-num\": 16, \"income\": \">50K\", \"count\": 399, \"percentage\": 73.3}]}}, {\"mode\": \"vega-lite\"});\n",
       "</script>"
      ],
      "text/plain": [
       "alt.Chart(...)"
      ]
     },
     "metadata": {},
     "output_type": "display_data"
    },
    {
     "ename": "ModuleNotFoundError",
     "evalue": "No module named 'vl_convert'",
     "output_type": "error",
     "traceback": [
      "\u001b[0;31m---------------------------------------------------------------------------\u001b[0m",
      "\u001b[0;31mModuleNotFoundError\u001b[0m                       Traceback (most recent call last)",
      "Cell \u001b[0;32mIn[6], line 31\u001b[0m\n\u001b[1;32m     19\u001b[0m chart \u001b[38;5;241m=\u001b[39m alt\u001b[38;5;241m.\u001b[39mChart(grouped)\u001b[38;5;241m.\u001b[39mmark_bar()\u001b[38;5;241m.\u001b[39mencode(\n\u001b[1;32m     20\u001b[0m     x\u001b[38;5;241m=\u001b[39malt\u001b[38;5;241m.\u001b[39mX(\u001b[38;5;124m'\u001b[39m\u001b[38;5;124meducation:N\u001b[39m\u001b[38;5;124m'\u001b[39m, sort\u001b[38;5;241m=\u001b[39mgrouped[\u001b[38;5;124m'\u001b[39m\u001b[38;5;124meducation\u001b[39m\u001b[38;5;124m'\u001b[39m]\u001b[38;5;241m.\u001b[39munique()\u001b[38;5;241m.\u001b[39mtolist(), title\u001b[38;5;241m=\u001b[39m\u001b[38;5;124m'\u001b[39m\u001b[38;5;124mEducation Level\u001b[39m\u001b[38;5;124m'\u001b[39m),\n\u001b[1;32m     21\u001b[0m     y\u001b[38;5;241m=\u001b[39malt\u001b[38;5;241m.\u001b[39mY(\u001b[38;5;124m'\u001b[39m\u001b[38;5;124mpercentage:Q\u001b[39m\u001b[38;5;124m'\u001b[39m, title\u001b[38;5;241m=\u001b[39m\u001b[38;5;124m'\u001b[39m\u001b[38;5;124mPercentage\u001b[39m\u001b[38;5;124m'\u001b[39m),\n\u001b[0;32m   (...)\u001b[0m\n\u001b[1;32m     27\u001b[0m     height\u001b[38;5;241m=\u001b[39m\u001b[38;5;241m400\u001b[39m\n\u001b[1;32m     28\u001b[0m )\n\u001b[1;32m     30\u001b[0m chart\u001b[38;5;241m.\u001b[39mshow()\n\u001b[0;32m---> 31\u001b[0m \u001b[38;5;28;01mimport\u001b[39;00m \u001b[38;5;21;01mvl_convert\u001b[39;00m \u001b[38;5;28;01mas\u001b[39;00m \u001b[38;5;21;01mvlc\u001b[39;00m\n\u001b[1;32m     32\u001b[0m \u001b[38;5;28mprint\u001b[39m(vlc\u001b[38;5;241m.\u001b[39m__version__)\n\u001b[1;32m     34\u001b[0m chart\u001b[38;5;241m.\u001b[39msave(\u001b[38;5;124m'\u001b[39m\u001b[38;5;124mchart.png\u001b[39m\u001b[38;5;124m'\u001b[39m) \n",
      "\u001b[0;31mModuleNotFoundError\u001b[0m: No module named 'vl_convert'"
     ]
    }
   ],
   "source": [
    "import pandas as pd\n",
    "import altair as alt\n",
    "\n",
    "\n",
    "grouped = (\n",
    "    df.groupby(['education', 'educational-num', 'income'])\n",
    "    .size()\n",
    "    .reset_index(name='count')\n",
    ")\n",
    "\n",
    "\n",
    "total_counts = grouped.groupby('education')['count'].transform('sum')\n",
    "grouped['percentage'] = (grouped['count'] / total_counts * 100).round(1)\n",
    "\n",
    "\n",
    "grouped = grouped.sort_values(by='educational-num')\n",
    "\n",
    "\n",
    "chart = alt.Chart(grouped).mark_bar().encode(\n",
    "    x=alt.X('education:N', sort=grouped['education'].unique().tolist(), title='Education Level'),\n",
    "    y=alt.Y('percentage:Q', title='Percentage'),\n",
    "    color=alt.Color('income:N', title='Income'),\n",
    "    tooltip=['education', 'income', 'percentage']\n",
    ").properties(\n",
    "    title='Income Distribution by Education Level',\n",
    "    width=600,\n",
    "    height=400\n",
    ")\n",
    "\n",
    "chart.show()\n",
    "import vl_convert as vlc\n",
    "print(vlc.__version__)\n",
    "\n",
    "chart.save('chart.png') \n"
   ]
  },
  {
   "cell_type": "code",
   "execution_count": null,
   "id": "74d29380-09c3-4a80-8932-ce9d1bc35684",
   "metadata": {},
   "outputs": [],
   "source": []
  }
 ],
 "metadata": {
  "kernelspec": {
   "display_name": "Python 3 (ipykernel)",
   "language": "python",
   "name": "python3"
  },
  "language_info": {
   "codemirror_mode": {
    "name": "ipython",
    "version": 3
   },
   "file_extension": ".py",
   "mimetype": "text/x-python",
   "name": "python",
   "nbconvert_exporter": "python",
   "pygments_lexer": "ipython3",
   "version": "3.12.4"
  }
 },
 "nbformat": 4,
 "nbformat_minor": 5
}
