{
 "cells": [
  {
   "cell_type": "code",
   "execution_count": 23,
   "id": "144a9203",
   "metadata": {},
   "outputs": [],
   "source": [
    "import pandas as pd\n",
    "import altair as alt\n",
    "\n",
    "alt.renderers.enable('default')\n",
    "\n",
    "df = pd.read_csv(\"adult_clean.csv\")\n",
    "df['income_group'] = df['income'].apply(lambda x: 'Low Income' if '<=50K' in x else 'High Income')\n",
    "\n",
    "grouped = df.groupby(['gender', 'income_group', 'race']).size().reset_index(name='count')\n",
    "total_counts = grouped.groupby(['gender', 'income_group'])['count'].sum().reset_index(name='total')\n",
    "grouped = pd.merge(grouped, total_counts, on=['gender', 'income_group'])\n",
    "\n",
    "grouped['percentage'] = grouped['count'] / grouped['total']\n",
    "grouped['group'] = grouped['gender'] + \" - \" + grouped['income_group']\n",
    "sort_order = ['Female - Low Income', 'Male - Low Income', 'Female - High Income', 'Male - High Income']\n",
    "\n",
    "race_options = list(grouped['race'].unique())\n",
    "race_options.insert(0, \"All\")\n",
    "\n",
    "race_param = alt.param(\n",
    "    name=\"RaceSelection\",                     \n",
    "    value=\"All\",                             \n",
    "    bind=alt.binding_select(options=race_options, name='Race: ')\n",
    ")\n",
    "\n",
    "chart = alt.Chart(grouped).mark_bar().encode(\n",
    "    y=alt.Y('group:N', title='Gender and Income', sort=sort_order),\n",
    "    x=alt.X('sum(count):Q', title='Count'),\n",
    "    color=alt.Color('race:N', title='Race', scale=alt.Scale(scheme='category10')),\n",
    "    tooltip=[\n",
    "        alt.Tooltip('group:N', title='Group'),\n",
    "        alt.Tooltip('sum(count):Q', title='Count'),\n",
    "        alt.Tooltip('max(total):Q', title='Total Count'),\n",
    "        alt.Tooltip('sum(percentage):Q', title='Percentage', format='.2%')\n",
    "    ]\n",
    ").add_params(\n",
    "    race_param\n",
    ").transform_filter(\n",
    "    \"datum.race == RaceSelection || RaceSelection == 'All'\"\n",
    ").properties(\n",
    "    title={\n",
    "        \"text\": \"Income by Gender and Race (Low vs. High Income Groups)\",\n",
    "        \"subtitle\": \"Low Income - <= $50,000 | High Income - > $50,000\"\n",
    "    },\n",
    "    width=1100,\n",
    "    height=600\n",
    ")\n",
    "\n",
    "chart.save('visualization-2-updated.html')\n"
   ]
  },
  {
   "cell_type": "code",
   "execution_count": null,
   "id": "b40bc9e6",
   "metadata": {},
   "outputs": [],
   "source": []
  }
 ],
 "metadata": {
  "kernelspec": {
   "display_name": "Python (base)",
   "language": "python",
   "name": "base"
  },
  "language_info": {
   "codemirror_mode": {
    "name": "ipython",
    "version": 3
   },
   "file_extension": ".py",
   "mimetype": "text/x-python",
   "name": "python",
   "nbconvert_exporter": "python",
   "pygments_lexer": "ipython3",
   "version": "3.11.8"
  }
 },
 "nbformat": 4,
 "nbformat_minor": 5
}
