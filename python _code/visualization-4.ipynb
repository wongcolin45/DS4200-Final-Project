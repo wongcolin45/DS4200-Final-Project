{
 "cells": [
  {
   "cell_type": "code",
   "execution_count": 9,
   "id": "de22b971",
   "metadata": {},
   "outputs": [],
   "source": [
    "import altair as alt\n",
    "import pandas as pd\n",
    "\n",
    "df = pd.read_csv(\"adult_clean.csv\")\n",
    "\n",
    "df['age'] = pd.to_numeric(df['age'], errors='coerce')\n",
    "df['capital-gain'] = pd.to_numeric(df['capital-gain'], errors='coerce')\n",
    "\n",
    "edu_options = ['All'] + sorted(df['education'].dropna().unique().tolist())\n",
    "income_options = ['All', '<=50K', '>50K']\n",
    "\n",
    "education_param = alt.param(\n",
    "    name='education_param',\n",
    "    value='All',\n",
    "    bind=alt.binding_select(options=edu_options, name='Education')\n",
    ")\n",
    "\n",
    "income_param = alt.param(\n",
    "    name='income_param',\n",
    "    value='All',\n",
    "    bind=alt.binding_select(options=income_options, name='Income')\n",
    ")\n",
    "\n",
    "\n",
    "scatter = alt.Chart(df).mark_circle(size=60).encode(\n",
    "    x=alt.X('age:Q', title='Age'),\n",
    "    y=alt.Y('capital-gain:Q', title='Capital Gain'),\n",
    "    tooltip=['age', 'capital-gain', 'education', 'income']\n",
    ").add_params(\n",
    "    education_param,\n",
    "    income_param\n",
    ").transform_filter(\n",
    "    (alt.datum.education == education_param) | (education_param == 'All')\n",
    ").transform_filter(\n",
    "    (alt.datum.income == income_param) | (income_param == 'All')\n",
    ").properties(\n",
    "    title='Interactive Scatter Plot: Age vs. Capital Gain',\n",
    "    width=1000,\n",
    "    height=600\n",
    ")\n",
    "\n",
    "scatter.save('visualization-4.html')\n"
   ]
  },
  {
   "cell_type": "code",
   "execution_count": null,
   "id": "0eb7c9db",
   "metadata": {},
   "outputs": [],
   "source": []
  }
 ],
 "metadata": {
  "kernelspec": {
   "display_name": "Python (base)",
   "language": "python",
   "name": "base"
  },
  "language_info": {
   "codemirror_mode": {
    "name": "ipython",
    "version": 3
   },
   "file_extension": ".py",
   "mimetype": "text/x-python",
   "name": "python",
   "nbconvert_exporter": "python",
   "pygments_lexer": "ipython3",
   "version": "3.11.8"
  }
 },
 "nbformat": 4,
 "nbformat_minor": 5
}
